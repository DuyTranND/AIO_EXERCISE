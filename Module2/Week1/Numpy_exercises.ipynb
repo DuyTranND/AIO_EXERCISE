{
 "cells": [
  {
   "cell_type": "markdown",
   "metadata": {},
   "source": [
    "# Bài tập 1: Numpy Cơ Bản"
   ]
  },
  {
   "cell_type": "code",
   "execution_count": 53,
   "metadata": {},
   "outputs": [],
   "source": [
    "#Import Lib\n",
    "import numpy as np\n",
    "import matplotlib . image as mpimg\n",
    "import pandas as pd"
   ]
  },
  {
   "cell_type": "markdown",
   "metadata": {},
   "source": [
    "EX1: Initialize 1D Array (0,9)"
   ]
  },
  {
   "cell_type": "code",
   "execution_count": 9,
   "metadata": {},
   "outputs": [
    {
     "name": "stdout",
     "output_type": "stream",
     "text": [
      "[0 1 2 3 4 5 6 7 8 9]\n",
      "<class 'numpy.ndarray'>\n"
     ]
    }
   ],
   "source": [
    "arr = np.arange(0,10,1)\n",
    "print(arr,type(arr),sep=\"\\n\")"
   ]
  },
  {
   "cell_type": "markdown",
   "metadata": {},
   "source": [
    "EX2: Initialize Bool 3x3 Array"
   ]
  },
  {
   "cell_type": "code",
   "execution_count": 12,
   "metadata": {},
   "outputs": [
    {
     "name": "stdout",
     "output_type": "stream",
     "text": [
      "<class 'numpy.bool_'>\n",
      "<class 'numpy.bool_'>\n",
      "<class 'numpy.bool_'>\n"
     ]
    }
   ],
   "source": [
    "arr1 = np . ones ((3 ,3) ) > 0\n",
    "arr2 = np . ones ((3 ,3) , dtype = bool )\n",
    "arr3 = np . full ((3 ,3) , fill_value = True , dtype = bool )\n",
    "\n",
    "print(type(arr1[0][0]),type(arr2[0][0]),type(arr3[0][0]), sep=\"\\n\")"
   ]
  },
  {
   "cell_type": "markdown",
   "metadata": {},
   "source": [
    "EX3: Run code"
   ]
  },
  {
   "cell_type": "code",
   "execution_count": 13,
   "metadata": {},
   "outputs": [
    {
     "name": "stdout",
     "output_type": "stream",
     "text": [
      "[1 3 5 7 9]\n"
     ]
    }
   ],
   "source": [
    "arr = np . arange (0 ,10)\n",
    "print ( arr [ arr %2 == 1])"
   ]
  },
  {
   "cell_type": "markdown",
   "metadata": {},
   "source": [
    "EX4: Run code"
   ]
  },
  {
   "cell_type": "code",
   "execution_count": 14,
   "metadata": {},
   "outputs": [
    {
     "name": "stdout",
     "output_type": "stream",
     "text": [
      "[ 0 -1  2 -1  4 -1  6 -1  8 -1]\n"
     ]
    }
   ],
   "source": [
    "arr = np . arange (0 ,10)\n",
    "arr [ arr %2 ==1] = -1\n",
    "print ( arr )"
   ]
  },
  {
   "cell_type": "markdown",
   "metadata": {},
   "source": [
    "EX5: Run code"
   ]
  },
  {
   "cell_type": "code",
   "execution_count": 15,
   "metadata": {},
   "outputs": [
    {
     "name": "stdout",
     "output_type": "stream",
     "text": [
      "[[0 1 2 3 4]\n",
      " [5 6 7 8 9]]\n"
     ]
    }
   ],
   "source": [
    "arr = np.arange(10)\n",
    "arr_2d = arr.reshape(2 , -1)\n",
    "print ( arr_2d )"
   ]
  },
  {
   "cell_type": "markdown",
   "metadata": {},
   "source": [
    "EX6: Run code"
   ]
  },
  {
   "cell_type": "code",
   "execution_count": 16,
   "metadata": {},
   "outputs": [
    {
     "name": "stdout",
     "output_type": "stream",
     "text": [
      " Result : \n",
      " [[0 1 2 3 4]\n",
      " [5 6 7 8 9]\n",
      " [1 1 1 1 1]\n",
      " [1 1 1 1 1]]\n"
     ]
    }
   ],
   "source": [
    "arr1 = np . arange (10) . reshape (2 , -1)\n",
    "arr2 = np . repeat (1 ,10) . reshape (2 , -1)\n",
    "c = np . concatenate ([ arr1 , arr2 ] , axis =0)\n",
    "print (\" Result : \\n\", c )"
   ]
  },
  {
   "cell_type": "markdown",
   "metadata": {},
   "source": [
    "EX7: Run code"
   ]
  },
  {
   "cell_type": "code",
   "execution_count": 17,
   "metadata": {},
   "outputs": [
    {
     "name": "stdout",
     "output_type": "stream",
     "text": [
      "C =  [[0 1 2 3 4 1 1 1 1 1]\n",
      " [5 6 7 8 9 1 1 1 1 1]]\n"
     ]
    }
   ],
   "source": [
    "arr1 = np . arange (10) . reshape (2 , -1)\n",
    "arr2 = np . repeat (1 ,10) . reshape (2 , -1)\n",
    "c = np . concatenate ([ arr1 , arr2 ] , axis =1)\n",
    "print (\"C = \", c )"
   ]
  },
  {
   "cell_type": "markdown",
   "metadata": {},
   "source": [
    "EX8: Run code"
   ]
  },
  {
   "cell_type": "code",
   "execution_count": 18,
   "metadata": {},
   "outputs": [
    {
     "name": "stdout",
     "output_type": "stream",
     "text": [
      "[1 1 1 2 2 2 3 3 3]\n",
      "[1 2 3 1 2 3 1 2 3]\n"
     ]
    }
   ],
   "source": [
    "arr = np . array ([1 ,2 ,3])\n",
    "print ( np . repeat ( arr ,3) )\n",
    "print ( np . tile ( arr ,3) )"
   ]
  },
  {
   "cell_type": "markdown",
   "metadata": {},
   "source": [
    "EX9: Run code"
   ]
  },
  {
   "cell_type": "code",
   "execution_count": 19,
   "metadata": {},
   "outputs": [
    {
     "name": "stdout",
     "output_type": "stream",
     "text": [
      " result  [ 6  9 10]\n"
     ]
    }
   ],
   "source": [
    "a = np . array ([2 ,6 ,1 ,9 ,10 ,3 ,27])\n",
    "index = np . where ((a >=5) &( a <=10) )\n",
    "print (\" result \", a [ index ])"
   ]
  },
  {
   "cell_type": "markdown",
   "metadata": {},
   "source": [
    "EX10: Run code"
   ]
  },
  {
   "cell_type": "code",
   "execution_count": 24,
   "metadata": {},
   "outputs": [
    {
     "name": "stdout",
     "output_type": "stream",
     "text": [
      "[6. 7. 9. 8. 9. 7. 5.]\n"
     ]
    }
   ],
   "source": [
    "def maxx (x , y) :\n",
    "    if x >= y :\n",
    "        return x\n",
    "    else :\n",
    "        return y\n",
    "\n",
    "a = np . array ([5 ,7 ,9 ,8 ,6 ,4 ,5])\n",
    "b = np . array ([6 ,3 ,4 ,8 ,9 ,7 ,1])\n",
    "\n",
    "pair_max = np . vectorize ( maxx , otypes =[ float ])\n",
    "print ( pair_max (a , b ) )"
   ]
  },
  {
   "cell_type": "markdown",
   "metadata": {},
   "source": [
    "EX11: Run code"
   ]
  },
  {
   "cell_type": "code",
   "execution_count": 25,
   "metadata": {},
   "outputs": [
    {
     "name": "stdout",
     "output_type": "stream",
     "text": [
      " Result  [6 7 9 8 9 7 5]\n"
     ]
    }
   ],
   "source": [
    "a = np . array ([5 ,7 ,9 ,8 ,6 ,4 ,5])\n",
    "b = np . array ([6 ,3 ,4 ,8 ,9 ,7 ,1])\n",
    "\n",
    "print (\" Result \", np . where (a <b , b , a ) )"
   ]
  },
  {
   "cell_type": "markdown",
   "metadata": {},
   "source": [
    "# Bài tập 2: Xử lý ảnh"
   ]
  },
  {
   "cell_type": "markdown",
   "metadata": {},
   "source": [
    "EX12: Run code"
   ]
  },
  {
   "cell_type": "code",
   "execution_count": 43,
   "metadata": {},
   "outputs": [
    {
     "data": {
      "text/plain": [
       "102.5"
      ]
     },
     "execution_count": 43,
     "metadata": {},
     "output_type": "execute_result"
    }
   ],
   "source": [
    "# Lightness\n",
    "img = mpimg . imread (r'dog.jpeg')\n",
    "gray_img_01 = np.mean([np.max(img, axis=2), np.min(img, axis=2)], axis=0)\n",
    "gray_img_01 [0, 0]"
   ]
  },
  {
   "cell_type": "markdown",
   "metadata": {},
   "source": [
    "EX13: Run code"
   ]
  },
  {
   "cell_type": "code",
   "execution_count": 44,
   "metadata": {},
   "outputs": [
    {
     "data": {
      "text/plain": [
       "107.66666666666667"
      ]
     },
     "execution_count": 44,
     "metadata": {},
     "output_type": "execute_result"
    }
   ],
   "source": [
    "# Average\n",
    "gray_img_02 = np.mean(img, axis=2)\n",
    "gray_img_02 [0 , 0]"
   ]
  },
  {
   "cell_type": "markdown",
   "metadata": {},
   "source": [
    "EX14: Run code"
   ]
  },
  {
   "cell_type": "code",
   "execution_count": 51,
   "metadata": {},
   "outputs": [
    {
     "data": {
      "text/plain": [
       "126.22999999999999"
      ]
     },
     "execution_count": 51,
     "metadata": {},
     "output_type": "execute_result"
    }
   ],
   "source": [
    "# Luminosity\n",
    "def grayscale_luminosity(r,g,b):\n",
    "    return 0.21*r + 0.72*g + 0.07*b\n",
    "\n",
    "gray_img_03 = np.vectorize(grayscale_luminosity)(img[:,:,0], img[:,:,1], img[:,:,2])\n",
    "gray_img_03 [0 , 0]"
   ]
  },
  {
   "cell_type": "markdown",
   "metadata": {},
   "source": [
    "# Bài tập 3: Phân tích dữ liệu dạng bảng"
   ]
  },
  {
   "cell_type": "markdown",
   "metadata": {},
   "source": [
    "EX15: Run code"
   ]
  },
  {
   "cell_type": "code",
   "execution_count": 59,
   "metadata": {},
   "outputs": [
    {
     "name": "stdout",
     "output_type": "stream",
     "text": [
      "Max: 27.0 - Index: 175\n"
     ]
    }
   ],
   "source": [
    "df = pd.read_csv(r\"advertising.csv\")\n",
    "data = df.to_numpy()\n",
    "\n",
    "# Get \"Sale\" column index\n",
    "sales_column_index = df.columns.get_loc('Sales')\n",
    "\n",
    "# Extract the \"Sales\" column\n",
    "sales = data[:, sales_column_index]\n",
    "\n",
    "# Find the maximum value and its corresponding index\n",
    "max_value = np.max(sales)\n",
    "max_index = np.argmax(sales)\n",
    "\n",
    "print(f\"Max: {max_value} - Index: {max_index}\")"
   ]
  },
  {
   "cell_type": "markdown",
   "metadata": {},
   "source": [
    "EX16: Run code"
   ]
  },
  {
   "cell_type": "code",
   "execution_count": 68,
   "metadata": {},
   "outputs": [
    {
     "name": "stdout",
     "output_type": "stream",
     "text": [
      "Mean: 147.0425\n"
     ]
    }
   ],
   "source": [
    "# Get \"TV\" column index\n",
    "tv_column_index = df.columns.get_loc('TV')\n",
    "\n",
    "# Extract the \"TV\" column\n",
    "tv = data[:, tv_column_index]\n",
    "\n",
    "# Find the maximum value and its corresponding index\n",
    "mean_value = np.mean(tv)\n",
    "\n",
    "print(f\"Mean: {mean_value}\")"
   ]
  },
  {
   "cell_type": "markdown",
   "metadata": {},
   "source": [
    "EX17: Run code"
   ]
  },
  {
   "cell_type": "code",
   "execution_count": 67,
   "metadata": {},
   "outputs": [
    {
     "name": "stdout",
     "output_type": "stream",
     "text": [
      "Number of records with Sales >= 20: 40\n"
     ]
    }
   ],
   "source": [
    "count_sales_above_20 = np.sum(data[:, sales_column_index] >= 20)\n",
    "print(\"Number of records with Sales >= 20:\", count_sales_above_20)"
   ]
  },
  {
   "cell_type": "markdown",
   "metadata": {},
   "source": [
    "EX18: Run code"
   ]
  },
  {
   "cell_type": "code",
   "execution_count": 72,
   "metadata": {},
   "outputs": [
    {
     "name": "stdout",
     "output_type": "stream",
     "text": [
      "Average Radio where Sales >= 15: 26.22293577981651\n"
     ]
    }
   ],
   "source": [
    "# Get \"Radio\" column index\n",
    "radio_column_index = df.columns.get_loc('Radio')\n",
    "\n",
    "# Find the maximum value and its corresponding index\n",
    "average_radio_sales_above_15 = np.mean(data[data[:, sales_column_index] >= 15, radio_column_index])\n",
    "\n",
    "print(\"Average Radio where Sales >= 15:\", average_radio_sales_above_15)"
   ]
  },
  {
   "cell_type": "markdown",
   "metadata": {},
   "source": [
    "EX19: Run code"
   ]
  },
  {
   "cell_type": "code",
   "execution_count": 74,
   "metadata": {},
   "outputs": [
    {
     "name": "stdout",
     "output_type": "stream",
     "text": [
      "Average Radio where Sales >= 15: 1405.1\n"
     ]
    }
   ],
   "source": [
    "# Get \"Radio\" column index\n",
    "newspaper_column_index = df.columns.get_loc('Newspaper')\n",
    "\n",
    "# Find the maximum value and its corresponding index\n",
    "sum_sales_newspaper_above_mean = np.sum(data[data[:, newspaper_column_index] > np.mean(data[:,newspaper_column_index]), sales_column_index])\n",
    "\n",
    "print(\"Average Radio where Sales >= 15:\", sum_sales_newspaper_above_mean)"
   ]
  },
  {
   "cell_type": "markdown",
   "metadata": {},
   "source": [
    "EX20: Run code"
   ]
  },
  {
   "cell_type": "code",
   "execution_count": 76,
   "metadata": {},
   "outputs": [
    {
     "name": "stdout",
     "output_type": "stream",
     "text": [
      "Scores from index 7 to 9: ['Bad' 'Bad' 'Good']\n"
     ]
    }
   ],
   "source": [
    "# Calculate the mean of the 'Sales' column\n",
    "A = np.mean(sales)\n",
    "\n",
    "# Define a function to label values based on conditions\n",
    "def label_scores(value, A):\n",
    "    if value > A:\n",
    "        return 'Good'\n",
    "    elif value < A:\n",
    "        return 'Bad'\n",
    "    else:\n",
    "        return 'Average'\n",
    "\n",
    "# Create a new array 'scores' based on conditions using np.vectorize\n",
    "scores = np.vectorize(label_scores)(sales, A)\n",
    "\n",
    "# Print the result for scores[7:10]\n",
    "print(\"Scores from index 7 to 9:\", scores[7:10])"
   ]
  },
  {
   "cell_type": "markdown",
   "metadata": {},
   "source": [
    "EX21: Run code"
   ]
  },
  {
   "cell_type": "code",
   "execution_count": 77,
   "metadata": {},
   "outputs": [
    {
     "name": "stdout",
     "output_type": "stream",
     "text": [
      "Scores from index 7 to 9: ['Bad' 'Bad' 'Good']\n"
     ]
    }
   ],
   "source": [
    "A = np.mean(sales)\n",
    "\n",
    "nearest_value_index = np.abs(df['Sales'] - A).idxmin()\n",
    "nearest_value_to_A = df.loc[nearest_value_index, 'Sales']\n",
    "\n",
    "# Define a function to label values based on conditions\n",
    "def label_scores(value, A):\n",
    "    if value > A:\n",
    "        return 'Good'\n",
    "    elif value < A:\n",
    "        return 'Bad'\n",
    "    else:\n",
    "        return 'Average'\n",
    "\n",
    "# Create a new array 'scores' based on conditions using np.vectorize\n",
    "scores = np.vectorize(label_scores)(df['Sales'], nearest_value_to_A)\n",
    "\n",
    "# Print the result for scores[7:10]\n",
    "print(\"Scores from index 7 to 9:\", scores[7:10])"
   ]
  }
 ],
 "metadata": {
  "kernelspec": {
   "display_name": "Python 3",
   "language": "python",
   "name": "python3"
  },
  "language_info": {
   "codemirror_mode": {
    "name": "ipython",
    "version": 3
   },
   "file_extension": ".py",
   "mimetype": "text/x-python",
   "name": "python",
   "nbconvert_exporter": "python",
   "pygments_lexer": "ipython3",
   "version": "3.12.1"
  }
 },
 "nbformat": 4,
 "nbformat_minor": 2
}
